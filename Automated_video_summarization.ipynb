{
  "cells": [
    {
      "cell_type": "markdown",
      "metadata": {
        "id": "mWiaesbwRL7T"
      },
      "source": [
        "**INPUT** : Raw video\n",
        "\n",
        ">\n",
        "\n",
        "\n",
        "**OUTPUT** : Edited micro video of contextual glimpse"
      ]
    },
    {
      "cell_type": "markdown",
      "metadata": {
        "id": "NusEAmRkNIrc"
      },
      "source": [
        "**Install all the required packages**\n",
        "\n"
      ]
    },
    {
      "cell_type": "code",
      "execution_count": null,
      "metadata": {
        "id": "qhO6me32Eu5p"
      },
      "outputs": [],
      "source": [
        "!pip install langchain\n",
        "!pip install openai\n",
        "!pip install elevenlabs\n",
        "!pip install openai-whisper"
      ]
    },
    {
      "cell_type": "code",
      "execution_count": null,
      "metadata": {
        "id": "GgSeCfceHr_z"
      },
      "outputs": [],
      "source": [
        "import moviepy.editor as mp\n",
        "import cv2\n",
        "import whisper\n",
        "import os\n",
        "import elevenlabs\n",
        "from langchain.llms import OpenAI\n",
        "from langchain import PromptTemplate\n",
        "from langchain.chains import LLMChain\n",
        "from langchain.utilities.dalle_image_generator import DallEAPIWrapper\n",
        "import requests\n",
        "from PIL import Image\n",
        "from io import BytesIO\n",
        "import numpy as np"
      ]
    },
    {
      "cell_type": "code",
      "execution_count": null,
      "metadata": {
        "id": "CJaObm4gLaJH"
      },
      "outputs": [],
      "source": [
        "from google.colab import drive\n",
        "drive.mount('/content/drive')"
      ]
    },
    {
      "cell_type": "markdown",
      "metadata": {
        "id": "2zdiqodMNygi"
      },
      "source": [
        "**Input the Video**"
      ]
    },
    {
      "cell_type": "code",
      "execution_count": null,
      "metadata": {
        "id": "GSpJDUDVrbOA"
      },
      "outputs": [],
      "source": [
        "clip = mp.VideoFileClip(\"/content/drive/MyDrive/The basics about_ Coffee.mp4\")\n",
        "clip1= clip.subclip(0,20)\n",
        "clip1.ipython_display(width= 300)"
      ]
    },
    {
      "cell_type": "markdown",
      "metadata": {
        "id": "XsSzK7ERNlgs"
      },
      "source": [
        "**Extract the audio**"
      ]
    },
    {
      "cell_type": "code",
      "execution_count": null,
      "metadata": {
        "id": "r5KZ7etRr3LX"
      },
      "outputs": [],
      "source": [
        "# Extract audio\n",
        "audio_clip = mp.AudioFileClip(\"/content/drive/MyDrive/The basics about_ Coffee.mp4\")\n",
        "audio_clip.write_audiofile(\"audio.wav\")\n",
        "audio_clip1 = audio_clip.subclip(0,20)\n",
        "audio_clip1.ipython_display(width= 300)"
      ]
    },
    {
      "cell_type": "markdown",
      "metadata": {
        "id": "ZYSbEkMVN_8A"
      },
      "source": [
        "**Transcript the audio to text**"
      ]
    },
    {
      "cell_type": "code",
      "execution_count": null,
      "metadata": {
        "id": "VKcZulLKX0br"
      },
      "outputs": [],
      "source": [
        "model = whisper.load_model(\"base\")\n",
        "result = model.transcribe(\"audio.wav\")\n",
        "with open(\"transcription.txt\", \"w\") as f:\n",
        "  f.write(result['text'])"
      ]
    },
    {
      "cell_type": "code",
      "execution_count": null,
      "metadata": {
        "id": "l_jvuj4zSgbc"
      },
      "outputs": [],
      "source": [
        "openapi_key = 'OPEN_API_KEY'\n",
        "os.environ['OPENAI_API_KEY']= openapi_key"
      ]
    },
    {
      "cell_type": "code",
      "execution_count": null,
      "metadata": {
        "id": "Y6DDngj7Sb3N"
      },
      "outputs": [],
      "source": [
        "with open('transcription.txt', 'r') as file:\n",
        "    text = file.read()\n",
        "\n",
        "# Printing the first 285 characters as a preview\n",
        "print (text[:285])"
      ]
    },
    {
      "cell_type": "markdown",
      "metadata": {
        "id": "Pra2jnisOS6E"
      },
      "source": [
        "**Generate Summary**"
      ]
    },
    {
      "cell_type": "code",
      "execution_count": null,
      "metadata": {
        "id": "Z3mauZcZ0U0q"
      },
      "outputs": [],
      "source": [
        "llm = OpenAI(temperature=0.6, model_name='text-davinci-003', openai_api_key=openapi_key)\n",
        "\n",
        "template = \"\"\"\n",
        "%INSTRUCTIONS:\n",
        "Please summarize the following text which is transcript of a video in short.\n",
        "Respond in a manner so that anyone would understand.\n",
        "\n",
        "%TEXT:\n",
        "{text}\n",
        "\"\"\"\n",
        "\n",
        "# Create a LangChain prompt template that we can insert values to later\n",
        "prompt = PromptTemplate(\n",
        "    input_variables=[\"text\"],\n",
        "    template=template,\n",
        ")"
      ]
    },
    {
      "cell_type": "code",
      "execution_count": null,
      "metadata": {
        "id": "JEPbNCTe0-FW"
      },
      "outputs": [],
      "source": [
        "final_prompt = prompt.format(text=text)\n",
        "print(final_prompt)\n",
        "output = llm(final_prompt)\n",
        "print (output)"
      ]
    },
    {
      "cell_type": "code",
      "execution_count": null,
      "metadata": {
        "id": "Y4vRvjZs5Au2"
      },
      "outputs": [],
      "source": [
        "folder_name= 'TLDW'\n",
        "folder_path = os.path.join('/content/drive/My Drive', folder_name)\n",
        "os.makedirs(folder_path, exist_ok= True)\n",
        "os.chdir(folder_path)"
      ]
    },
    {
      "cell_type": "code",
      "execution_count": null,
      "metadata": {
        "id": "GZ5FwFPWOvOA"
      },
      "outputs": [],
      "source": [
        "with open(\"transcription.txt\", \"w\") as f:\n",
        "  f.write(result['text'])"
      ]
    },
    {
      "cell_type": "code",
      "execution_count": null,
      "metadata": {
        "id": "hTHl9bPu5apX"
      },
      "outputs": [],
      "source": [
        "with open('summary.txt', 'w') as f:\n",
        "  f.write(output)"
      ]
    },
    {
      "cell_type": "markdown",
      "metadata": {
        "id": "BSbWh-I9O2Rj"
      },
      "source": [
        "**Split the summary**"
      ]
    },
    {
      "cell_type": "code",
      "execution_count": null,
      "metadata": {
        "id": "b9otFaNlT_XY"
      },
      "outputs": [],
      "source": [
        "sentences = []\n",
        "with open(\"summary.txt\",'r') as data_file:\n",
        "    for line in data_file:\n",
        "        data = line.split(\". \")\n",
        "        sentences.append(data)"
      ]
    },
    {
      "cell_type": "code",
      "execution_count": null,
      "metadata": {
        "id": "f7Uo8fFGX-g9"
      },
      "outputs": [],
      "source": [
        "sentences"
      ]
    },
    {
      "cell_type": "code",
      "execution_count": null,
      "metadata": {
        "id": "rIfDYCaV6F4O"
      },
      "outputs": [],
      "source": [
        "folder_name= 'audio'\n",
        "folder_path_audio = os.path.join(folder_path, folder_name)\n",
        "os.makedirs(folder_path_audio, exist_ok= True)\n",
        "os.chdir(folder_path_audio)"
      ]
    },
    {
      "cell_type": "markdown",
      "metadata": {
        "id": "XP9fzuF3PCO4"
      },
      "source": [
        "**Generate audio**"
      ]
    },
    {
      "cell_type": "code",
      "execution_count": null,
      "metadata": {
        "id": "dLuhQU_9A1JY"
      },
      "outputs": [],
      "source": [
        "elevenlabs.set_api_key(\"API\")\n",
        "for i in range(0,len(sentences[1])):\n",
        "  audio = elevenlabs.generate(\n",
        "      text= sentences[1][i],\n",
        "      voice = \"Dave\" # customize the voice according to requirements\n",
        "  )\n",
        "  elevenlabs.save(audio, f\"audio_{i+1}.mp3\")"
      ]
    },
    {
      "cell_type": "code",
      "execution_count": null,
      "metadata": {
        "id": "RJjnDjAwVciR"
      },
      "outputs": [],
      "source": [
        "folder_name= 'Videos'\n",
        "folder_path_video = os.path.join(folder_path, folder_name)\n",
        "os.makedirs(folder_path_video, exist_ok= True)"
      ]
    },
    {
      "cell_type": "markdown",
      "metadata": {
        "id": "j_ExjxR7PPmA"
      },
      "source": [
        "**Generate video for each part of summary (video clips+audio)**"
      ]
    },
    {
      "cell_type": "code",
      "execution_count": null,
      "metadata": {
        "id": "wfiT65ZE6C-H"
      },
      "outputs": [],
      "source": [
        "from moviepy.editor import *"
      ]
    },
    {
      "cell_type": "code",
      "execution_count": null,
      "metadata": {
        "id": "pTqP8npHe1tn"
      },
      "outputs": [],
      "source": [
        "video_timestamps = [5,48,125,316]"
      ]
    },
    {
      "cell_type": "code",
      "execution_count": null,
      "metadata": {
        "id": "UgLG3XrMajRT"
      },
      "outputs": [],
      "source": [
        "output_folder= '/content/drive/MyDrive/TLDW/Videos'\n",
        "audio_folder= '/content/drive/MyDrive/TLDW/audio'\n",
        "for i in range(0,len(sentences[1])):\n",
        "  # Load the audio\n",
        "  audio_path = os.path.join(audio_folder, f'audio_{i+1}.mp3')\n",
        "  audio = AudioFileClip(audio_path)\n",
        "  audio_duration = audio.duration\n",
        "  clip1= clip.subclip(video_timestamps[i],video_timestamps[i]+audio_duration)\n",
        "  new_clip = clip1.without_audio()\n",
        "  final_video = new_clip.set_audio(audio)\n",
        "\n",
        "  # Export the final video\n",
        "  output_path = os.path.join(output_folder, f'video{i+1}.mp4')\n",
        "  final_video.write_videofile(output_path, codec='libx264')\n",
        "\n",
        "  print(\"Video with transitions saved to\", output_path)"
      ]
    },
    {
      "cell_type": "markdown",
      "metadata": {
        "id": "c4PErNP5Pik5"
      },
      "source": [
        "**Concatenate all the videos and get a final video**"
      ]
    },
    {
      "cell_type": "code",
      "execution_count": null,
      "metadata": {
        "id": "Sc-CYjGhzODi"
      },
      "outputs": [],
      "source": [
        "video_paths= []\n",
        "for i in range(0,len(sentences[1])):\n",
        "  output_path = os.path.join(output_folder, f'video{i+1}.mp4')\n",
        "  video_paths.append(output_path)\n",
        "\n",
        "# Load the video clips\n",
        "video_clips = [VideoFileClip(video_path) for video_path in video_paths]\n",
        "\n",
        "# Concatenate the video clips\n",
        "final_video = concatenate_videoclips(video_clips, method=\"compose\")\n",
        "\n",
        "# Export the final video\n",
        "output_path = os.path.join(output_folder,'combined_video.mp4')\n",
        "final_video.write_videofile(output_path, codec='libx264')"
      ]
    },
    {
      "cell_type": "code",
      "execution_count": null,
      "metadata": {
        "id": "oHP3S1r_f8Wq"
      },
      "outputs": [],
      "source": [
        "# Preview video here\n",
        "clip_final= final_video.subclip(0,25)\n",
        "clip_final.ipython_display(width= 300)"
      ]
    },
    {
      "cell_type": "markdown",
      "metadata": {
        "id": "Kok6dYvDXOWE"
      },
      "source": [
        "Used **Vector store** and embeddings of transcription are stored in the vector store.\n",
        "Therefore, based on similarity search, it is able to answer any question related to video.\n",
        ">\n",
        "Example - Query: What is the video about?\n",
        ">\n",
        "  This provides the summary of the video."
      ]
    },
    {
      "cell_type": "code",
      "execution_count": null,
      "metadata": {
        "id": "aJ2vxtGzVa54"
      },
      "outputs": [],
      "source": [
        "pip install faiss-gpu"
      ]
    },
    {
      "cell_type": "code",
      "execution_count": null,
      "metadata": {
        "id": "30A-MtkMQznh"
      },
      "outputs": [],
      "source": [
        "from langchain import OpenAI\n",
        "from langchain.vectorstores import FAISS\n",
        "from langchain.chains import RetrievalQA\n",
        "from langchain.document_loaders import TextLoader\n",
        "from langchain.embeddings.openai import OpenAIEmbeddings"
      ]
    },
    {
      "cell_type": "code",
      "execution_count": null,
      "metadata": {
        "id": "JAwGchUAWRtM"
      },
      "outputs": [],
      "source": [
        "llm = OpenAI(temperature=0, openai_api_key=openapi_key)"
      ]
    },
    {
      "cell_type": "code",
      "execution_count": null,
      "metadata": {
        "id": "X_2yZrAETYKm"
      },
      "outputs": [],
      "source": [
        "transcription_path = os.path.join(folder_path, 'transcription.txt')\n",
        "loader = TextLoader(transcription_path)\n",
        "doc = loader.load()\n",
        "print (f\"You have {len(doc)} document\")\n",
        "print (f\"You have {len(doc[0].page_content)} characters in that document\")"
      ]
    },
    {
      "cell_type": "code",
      "execution_count": null,
      "metadata": {
        "id": "OMcEw3idVGYq"
      },
      "outputs": [],
      "source": [
        "embeddings = OpenAIEmbeddings(openai_api_key=openapi_key)\n",
        "docsearch = FAISS.from_documents(doc, embeddings)"
      ]
    },
    {
      "cell_type": "code",
      "execution_count": null,
      "metadata": {
        "id": "ZPab_DolVOhu"
      },
      "outputs": [],
      "source": [
        "qa = RetrievalQA.from_chain_type(llm=llm, chain_type=\"stuff\", retriever=docsearch.as_retriever())"
      ]
    },
    {
      "cell_type": "code",
      "execution_count": null,
      "metadata": {
        "id": "3GpuffW8VnXG"
      },
      "outputs": [],
      "source": [
        "query = input(\"query: \")\n",
        "qa.run(query)"
      ]
    }
  ],
  "metadata": {
    "accelerator": "GPU",
    "colab": {
      "gpuType": "T4",
      "provenance": []
    },
    "kernelspec": {
      "display_name": "Python 3",
      "name": "python3"
    },
    "language_info": {
      "name": "python"
    }
  },
  "nbformat": 4,
  "nbformat_minor": 0
}
